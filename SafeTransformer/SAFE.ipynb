{
  "nbformat": 4,
  "nbformat_minor": 0,
  "metadata": {
    "colab": {
      "provenance": [],
      "private_outputs": true
    },
    "kernelspec": {
      "name": "python3",
      "display_name": "Python 3"
    },
    "language_info": {
      "name": "python"
    },
    "accelerator": "GPU",
    "gpuClass": "standard"
  },
  "cells": [
    {
      "cell_type": "code",
      "execution_count": null,
      "metadata": {
        "id": "ORgG0V4TjKyc"
      },
      "outputs": [],
      "source": [
        "# Importar las librerías necesarias\n",
        "import pandas as pd\n",
        "import numpy as np\n",
        "from sklearn.linear_model import LogisticRegression, LinearRegression\n",
        "from sklearn.ensemble import RandomForestClassifier\n",
        "from sklearn.model_selection import train_test_split, cross_val_score\n",
        "from sklearn.metrics import accuracy_score, r2_score, confusion_matrix, mean_squared_error\n",
        "import seaborn as sns\n",
        "import matplotlib.pyplot as plt\n",
        "from sklearn.pipeline import Pipeline"
      ]
    },
    {
      "cell_type": "markdown",
      "source": [
        "# LECTURA Y VISUALIZACIÓN DE LOS DATOS"
      ],
      "metadata": {
        "id": "GYNAd6vh3lXZ"
      }
    },
    {
      "cell_type": "code",
      "source": [
        "# Cargar los datos\n",
        "hotel1 = pd.read_csv(\"H1.csv\")\n",
        "hotel2 = pd.read_csv(\"H2.csv\")"
      ],
      "metadata": {
        "id": "Wo3XB4xPjpEy"
      },
      "execution_count": null,
      "outputs": []
    },
    {
      "cell_type": "code",
      "source": [
        "# Reemplazar valores vacíos o nulos a \"0\"\n",
        "hotel1.fillna(0, inplace=True)\n",
        "hotel2.fillna(0, inplace=True)\n",
        "# Conversión de variables categóricas en numéricas\n",
        "hotel1 = pd.get_dummies(hotel1)\n",
        "hotel2 = pd.get_dummies(hotel2)"
      ],
      "metadata": {
        "id": "JEv-EUuzlIwZ"
      },
      "execution_count": null,
      "outputs": []
    },
    {
      "cell_type": "code",
      "source": [
        "hotel1.head()"
      ],
      "metadata": {
        "id": "V3wFYyE4kJtU"
      },
      "execution_count": null,
      "outputs": []
    },
    {
      "cell_type": "code",
      "source": [
        "hotel2.head()"
      ],
      "metadata": {
        "id": "-NzvZnUikMp2"
      },
      "execution_count": null,
      "outputs": []
    },
    {
      "cell_type": "markdown",
      "source": [
        "# EVALUACIÓN CON EL MODELO DE LOGÍSTICA VAINILLA "
      ],
      "metadata": {
        "id": "cE-isyyNpnTz"
      }
    },
    {
      "cell_type": "code",
      "source": [
        "# Evaluación de la regresión logística vainilla\n",
        "# Dividir los datos en conjuntos de entrenamiento y prueba\n",
        "X_train1, X_test1, y_train1, y_test1 = train_test_split(hotel1.drop('IsCanceled', axis=1), hotel1['IsCanceled'], test_size=0.2, random_state=42)\n",
        "X_train2, X_test2, y_train2, y_test2 = train_test_split(hotel2.drop('IsCanceled', axis=1), hotel2['IsCanceled'], test_size=0.2, random_state=42)"
      ],
      "metadata": {
        "id": "X8wQLqI6kGl1"
      },
      "execution_count": null,
      "outputs": []
    },
    {
      "cell_type": "code",
      "source": [
        "# Crear un modelo de regresión logística vainilla y ajustarlo a los datos de entrenamiento\n",
        "logreg_H1 = LogisticRegression()\n",
        "logreg_H1 = logreg_H1.fit(X_train1, y_train1)"
      ],
      "metadata": {
        "id": "PR9mBrAdkRtf"
      },
      "execution_count": null,
      "outputs": []
    },
    {
      "cell_type": "code",
      "source": [
        "logreg_H2 = LogisticRegression()\n",
        "logreg_H2 = logreg_H2.fit(X_train2, y_train2)"
      ],
      "metadata": {
        "id": "mXBLqbvlx9ic"
      },
      "execution_count": null,
      "outputs": []
    },
    {
      "cell_type": "code",
      "source": [
        "# Evaluar el modelo en los datos de prueba\n",
        "logreg_y_pred1 = logreg_H1.predict(X_test1)\n",
        "logreg_y_pred2 = logreg_H2.predict(X_test2)"
      ],
      "metadata": {
        "id": "u5ECsI_klVbH"
      },
      "execution_count": null,
      "outputs": []
    },
    {
      "cell_type": "code",
      "source": [
        "# Calcular la precisión del modelo\n",
        "print(\"Precisión del modelo Vainilla en H1: \", accuracy_score(y_test1, logreg_y_pred1))\n",
        "print(\"Precisión del modelo Vainilla en H2: \", accuracy_score(y_test2, logreg_y_pred2))"
      ],
      "metadata": {
        "id": "5Dv38s9UphEB"
      },
      "execution_count": null,
      "outputs": []
    },
    {
      "cell_type": "markdown",
      "source": [
        "# EVALUACIÓN CON EL MODELO LINEAL"
      ],
      "metadata": {
        "id": "n0HNhK5Ily4o"
      }
    },
    {
      "cell_type": "code",
      "source": [
        "# Evaluar el modelo lineal\n",
        "# Crear un modelo de regresión lineal y ajustarlo a los datos de entrenamiento\n",
        "linreg_H1 = LinearRegression()\n",
        "linreg_H1 = linreg_H1.fit(X_train1, y_train1)"
      ],
      "metadata": {
        "id": "miWG0Na1li6Q"
      },
      "execution_count": null,
      "outputs": []
    },
    {
      "cell_type": "code",
      "source": [
        "linreg_H2 = LinearRegression()\n",
        "linreg_H2 = linreg_H2.fit(X_train2, y_train2)"
      ],
      "metadata": {
        "id": "pgvZsh77yAqo"
      },
      "execution_count": null,
      "outputs": []
    },
    {
      "cell_type": "code",
      "source": [
        "# Evaluar el modelo en los datos de prueba\n",
        "linreg_y_pred1 = linreg_H1.predict(X_test1)\n",
        "linreg_y_pred2 = linreg_H2.predict(X_test2)"
      ],
      "metadata": {
        "id": "CqG318gKl4UM"
      },
      "execution_count": null,
      "outputs": []
    },
    {
      "cell_type": "code",
      "source": [
        "# Calcular el coeficiente de determinación del modelo\n",
        "print(\"Coeficiente de determinación del modelo regresión lineal en H1: \", r2_score(y_test1, linreg_y_pred1))\n",
        "print(\"Coeficiente de determinación del modelo regresión lineal en H2: \", r2_score(y_test2, linreg_y_pred2))"
      ],
      "metadata": {
        "id": "VzN1LPljl7Ms"
      },
      "execution_count": null,
      "outputs": []
    },
    {
      "cell_type": "code",
      "source": [
        "# Calculando el MSE\n",
        "print(\"MSE (Error cuadrático medio) del modelo regresión lineal en H1:\", mean_squared_error(y_test1, linreg_y_pred1))\n",
        "print(\"MSE (Error cuadrático medio) del modelo regresión lineal en H2:\", mean_squared_error(y_test2, linreg_y_pred2))"
      ],
      "metadata": {
        "id": "joh2rukRoPqw"
      },
      "execution_count": null,
      "outputs": []
    },
    {
      "cell_type": "markdown",
      "source": [
        "# IMPLEMENTACIÓN DEL MÉTODO SAFE"
      ],
      "metadata": {
        "id": "BMRfG9HRo6D6"
      }
    },
    {
      "cell_type": "markdown",
      "source": [
        "### MODELO DE BOSQUE ALEATORIO SUPERVISOR FLEXIBLE"
      ],
      "metadata": {
        "id": "wH90CImc1_y6"
      }
    },
    {
      "cell_type": "code",
      "source": [
        "pip install safe-transformer"
      ],
      "metadata": {
        "id": "4zsDEXfO8Ui6"
      },
      "execution_count": null,
      "outputs": []
    },
    {
      "cell_type": "code",
      "source": [
        "from SafeTransformer import SafeTransformer\n",
        "# Seleccionar las columnas numéricas para transformar\n",
        "numeric_cols = ['IsCanceled','LeadTime','IsRepeatedGuest','PreviousBookingsNotCanceled','BookingChanges','DaysInWaitingList','RequiredCarParkingSpaces','TotalOfSpecialRequests']"
      ],
      "metadata": {
        "id": "YT4O6KhUZeSy"
      },
      "execution_count": null,
      "outputs": []
    },
    {
      "cell_type": "code",
      "source": [
        "# Dividir los datos en conjuntos de entrenamiento y prueba\n",
        "X_train1_SAFE, X_test1_SAFE, y_train1_SAFE, y_test1_SAFE = train_test_split(hotel1[(numeric_cols)], hotel1['IsCanceled'], test_size=0.2, random_state=42)\n",
        "X_train2_SAFE, X_test2_SAFE, y_train2_SAFE, y_test2_SAFE = train_test_split(hotel2[(numeric_cols)], hotel2['IsCanceled'], test_size=0.2, random_state=42)"
      ],
      "metadata": {
        "id": "0okkDH0IW-kT"
      },
      "execution_count": null,
      "outputs": []
    },
    {
      "cell_type": "code",
      "source": [
        "# Entrenar un modelo complejo (bosque aleatorio supervisor flexible)\n",
        "surrogate_model_H1 = RandomForestClassifier(n_estimators=100,\n",
        "                                          max_depth=4,\n",
        "                                          max_features='sqrt',\n",
        "                                          random_state=42)\n",
        "surrogate_model_H1 = surrogate_model_H1.fit(X_train1_SAFE, y_train1_SAFE)"
      ],
      "metadata": {
        "id": "MqyGa3E-p52s"
      },
      "execution_count": null,
      "outputs": []
    },
    {
      "cell_type": "code",
      "source": [
        "# Entrenar un modelo complejo (bosque aleatorio supervisor flexible)\n",
        "surrogate_model_H2 = RandomForestClassifier(n_estimators=100,\n",
        "                                          max_depth=4,\n",
        "                                          max_features='sqrt',\n",
        "                                          random_state=42)\n",
        "surrogate_model_H2 = surrogate_model_H2.fit(X_train2_SAFE, y_train2_SAFE)"
      ],
      "metadata": {
        "id": "ygnR23R65wfu"
      },
      "execution_count": null,
      "outputs": []
    },
    {
      "cell_type": "markdown",
      "source": [
        "### TRANSFORMACIÓN DE VARIABLES"
      ],
      "metadata": {
        "id": "kS85Y5-72bTX"
      }
    },
    {
      "cell_type": "code",
      "source": [
        "# Utilizar SAFE para encontrar transformaciones de variables\n",
        "safe_transformer_H1 = SafeTransformer(surrogate_model_H1)\n",
        "X_transformed_H1 = safe_transformer_H1.fit_transform(X_train1_SAFE, y_train1_SAFE)"
      ],
      "metadata": {
        "id": "ump4GzdCqDn1"
      },
      "execution_count": null,
      "outputs": []
    },
    {
      "cell_type": "code",
      "source": [
        "safe_transformer_H2 = SafeTransformer(surrogate_model_H2)\n",
        "X_transformed_H2 = safe_transformer_H2.fit_transform(X_train2_SAFE, y_train2_SAFE)"
      ],
      "metadata": {
        "id": "rImGPCm5-P_n"
      },
      "execution_count": null,
      "outputs": []
    },
    {
      "cell_type": "code",
      "source": [
        "# Realizar selección de características en el nuevo conjunto de características\n",
        "linear_model_H1 = LogisticRegression()\n",
        "pipe_H1 = Pipeline(steps=[('linear', linear_model_H1)])\n",
        "pipe_H1 = pipe_H1.fit(X_transformed_H1, y_train1_SAFE)"
      ],
      "metadata": {
        "id": "-xufHS_snVko"
      },
      "execution_count": null,
      "outputs": []
    },
    {
      "cell_type": "code",
      "source": [
        "linear_model_H2 = LogisticRegression()\n",
        "pipe_H2 = Pipeline(steps=[('linear', linear_model_H2)])\n",
        "pipe_H2 = pipe_H2.fit(X_transformed_H2, y_train2_SAFE)"
      ],
      "metadata": {
        "id": "pZCiZ8e5-W-F"
      },
      "execution_count": null,
      "outputs": []
    },
    {
      "cell_type": "code",
      "source": [
        "# Evaluar el modelo de regresión logística basado en las variables transformadas\n",
        "X_test_transformed_H1 = safe_transformer_H1.transform(X_test1_SAFE)\n",
        "predictions_H1 = pipe_H1.predict(X_test_transformed_H1)\n",
        "accuracy_H1 = accuracy_score(y_test1_SAFE, predictions_H1)"
      ],
      "metadata": {
        "id": "Thfmp9ygnjm8"
      },
      "execution_count": null,
      "outputs": []
    },
    {
      "cell_type": "code",
      "source": [
        "X_test_transformed_H2 = safe_transformer_H2.transform(X_test2_SAFE)\n",
        "predictions_H2 = pipe_H2.predict(X_test_transformed_H2)\n",
        "accuracy_H2 = accuracy_score(y_test2_SAFE, predictions_H2)"
      ],
      "metadata": {
        "id": "3VJHU8DHoVmr"
      },
      "execution_count": null,
      "outputs": []
    },
    {
      "cell_type": "code",
      "source": [
        "# Calculando el MSE\n",
        "print(\"MSE (Error cuadrático medio) del modelo de Bosque Aleatorio en H1:\", mean_squared_error(y_test1_SAFE, predictions_H1))\n",
        "print(\"MSE (Error cuadrático medio) del modelo de Bosque Aleatorio en H2:\", mean_squared_error(y_test2_SAFE, predictions_H2))"
      ],
      "metadata": {
        "id": "aTw_SGoHpgI-"
      },
      "execution_count": null,
      "outputs": []
    },
    {
      "cell_type": "code",
      "source": [
        "# Calculando el R2\n",
        "print(\"Coeficiente de determinación del modelo en Bosque Aleatorio H1:\", r2_score(y_test1_SAFE, predictions_H1))\n",
        "print(\"Coeficiente de determinación del modelo en Bosque Aleatorio H2:\", r2_score(y_test2_SAFE, predictions_H2))"
      ],
      "metadata": {
        "id": "IlRv13B5pps3"
      },
      "execution_count": null,
      "outputs": []
    },
    {
      "cell_type": "markdown",
      "source": [
        "# EVALUACIÓN CON EL MODELO DE REGRESIÓN LOGÍSTICA "
      ],
      "metadata": {
        "id": "LfW_sSkX17iF"
      }
    },
    {
      "cell_type": "code",
      "source": [
        "# Entrenar un modelo de regresión logística con las variables transformadas\n",
        "logistic_model = LogisticRegression(penalty='l2', C=0.1, solver='liblinear')\n",
        "LM_H1 = logistic_model.fit(X_transformed_H1, y_train1_SAFE)\n",
        "LM_H2 = logistic_model.fit(X_transformed_H2, y_train2_SAFE)"
      ],
      "metadata": {
        "id": "n3s_ScnrL1Oe"
      },
      "execution_count": null,
      "outputs": []
    },
    {
      "cell_type": "code",
      "source": [
        "# Evaluar el modelo en el conjunto de prueba\n",
        "y_pred_H1 = LM_H1.predict(X_test_transformed_H1)\n",
        "y_pred_H2 = LM_H2.predict(X_test_transformed_H2)"
      ],
      "metadata": {
        "id": "1-bxD7yHrvd0"
      },
      "execution_count": null,
      "outputs": []
    },
    {
      "cell_type": "code",
      "source": [
        "# Calcular el coeficiente de determinación del modelo\n",
        "print(\"Coeficiente de determinación del modelo Logístico en H1: \", r2_score(y_test1_SAFE, predictions_H1))\n",
        "print(\"Coeficiente de determinación del modelo Logístico en H2: \", r2_score(y_test2_SAFE, predictions_H2))"
      ],
      "metadata": {
        "id": "EWpRtCUftRLL"
      },
      "execution_count": null,
      "outputs": []
    },
    {
      "cell_type": "code",
      "source": [
        "# Calculando el MSE\n",
        "print(\"MSE (Error cuadrático medio) del modelo Logístico en H1:\", mean_squared_error(y_test1_SAFE, predictions_H1))\n",
        "print(\"MSE (Error cuadrático medio) del modelo Logístico en H2:\", mean_squared_error(y_test2_SAFE, predictions_H2))"
      ],
      "metadata": {
        "id": "F2SyvjHO7S0N"
      },
      "execution_count": null,
      "outputs": []
    },
    {
      "cell_type": "code",
      "source": [
        "# Imprimir la matriz de confusión\n",
        "print(\"Matriz de confusión del modelo Logístico en H1:\\n\", confusion_matrix(y_test1_SAFE, predictions_H1))\n",
        "print(\"Matriz de confusión del modelo Logístico en H2:\\n\", confusion_matrix(y_test2_SAFE, predictions_H2))"
      ],
      "metadata": {
        "id": "LndjuHuDtj-b"
      },
      "execution_count": null,
      "outputs": []
    },
    {
      "cell_type": "code",
      "source": [
        "# Calcular la precisión del modelo\n",
        "print(\"Precisión del modelo Logístico en H1: \", accuracy_score(y_test1_SAFE, predictions_H1))\n",
        "print(\"Precisión del modelo Logístico en H2: \", accuracy_score(y_test2_SAFE, predictions_H2))"
      ],
      "metadata": {
        "id": "gE0gq2k8trLK"
      },
      "execution_count": null,
      "outputs": []
    }
  ]
}